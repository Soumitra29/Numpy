{
  "nbformat": 4,
  "nbformat_minor": 0,
  "metadata": {
    "colab": {
      "name": "Copy of Numpy.ipynb",
      "provenance": [],
      "collapsed_sections": []
    },
    "kernelspec": {
      "name": "python3",
      "display_name": "Python 3"
    },
    "language_info": {
      "name": "python"
    }
  },
  "cells": [
    {
      "cell_type": "markdown",
      "source": [
        "# **NumPy Library**"
      ],
      "metadata": {
        "id": "jqvIgrKzHqa9"
      }
    },
    {
      "cell_type": "code",
      "execution_count": null,
      "metadata": {
        "id": "o57CB3t9HhC5"
      },
      "outputs": [],
      "source": [
        "import numpy as np"
      ]
    },
    {
      "cell_type": "markdown",
      "source": [
        "# **Creating An Array**"
      ],
      "metadata": {
        "id": "3L75wMj9ID6s"
      }
    },
    {
      "cell_type": "code",
      "source": [
        "x=np.array([2,3,'n',5])\n",
        "print(x)\n",
        "print(type(x))"
      ],
      "metadata": {
        "colab": {
          "base_uri": "https://localhost:8080/"
        },
        "id": "cacLDeYLIT-k",
        "outputId": "3b43584c-b802-429d-9a67-56a443fe93cd"
      },
      "execution_count": null,
      "outputs": [
        {
          "output_type": "stream",
          "name": "stdout",
          "text": [
            "['2' '3' 'n' '5']\n",
            "<class 'numpy.ndarray'>\n"
          ]
        }
      ]
    },
    {
      "cell_type": "markdown",
      "source": [
        "# Generating Arrays using **linspace()**"
      ],
      "metadata": {
        "id": "k1rdhYhzIuw-"
      }
    },
    {
      "cell_type": "code",
      "source": [
        "b=np.linspace(start=1,stop=5,num=10,endpoint=True,retstep=False)\n",
        "print(b)\n",
        "c=np.linspace(start=1,stop=5,num=10,endpoint=True,retstep=True)\n",
        "print(c)"
      ],
      "metadata": {
        "colab": {
          "base_uri": "https://localhost:8080/"
        },
        "id": "iUZxjxDwI7Xx",
        "outputId": "d4ca8e4f-c87f-46fe-915b-ed9d868cf254"
      },
      "execution_count": null,
      "outputs": [
        {
          "output_type": "stream",
          "name": "stdout",
          "text": [
            "[1.         1.44444444 1.88888889 2.33333333 2.77777778 3.22222222\n",
            " 3.66666667 4.11111111 4.55555556 5.        ]\n",
            "(array([1.        , 1.44444444, 1.88888889, 2.33333333, 2.77777778,\n",
            "       3.22222222, 3.66666667, 4.11111111, 4.55555556, 5.        ]), 0.4444444444444444)\n"
          ]
        }
      ]
    },
    {
      "cell_type": "markdown",
      "source": [
        "#Generating Arrays using **arange()**"
      ],
      "metadata": {
        "id": "kOHD59ohJrr_"
      }
    },
    {
      "cell_type": "code",
      "source": [
        "c=np.arange(start=1,stop=20,step=2)\n",
        "print(c)"
      ],
      "metadata": {
        "colab": {
          "base_uri": "https://localhost:8080/"
        },
        "id": "uKJXMepvKdZ0",
        "outputId": "81dcb6c9-2fd2-48b2-828e-5f88c452c103"
      },
      "execution_count": null,
      "outputs": [
        {
          "output_type": "stream",
          "name": "stdout",
          "text": [
            "[ 1  3  5  7  9 11 13 15 17 19]\n"
          ]
        }
      ]
    },
    {
      "cell_type": "markdown",
      "source": [
        "\n",
        "#Generating Arrays using **ones()** & **zeros()**"
      ],
      "metadata": {
        "id": "fM43AAWfK32m"
      }
    },
    {
      "cell_type": "code",
      "source": [
        "d=np.ones(shape=(2,3), dtype=int)\n",
        "print(d)\n",
        "e=np.zeros(shape=(3,4))\n",
        "print(e)"
      ],
      "metadata": {
        "colab": {
          "base_uri": "https://localhost:8080/"
        },
        "id": "2qwHDqxPLCyN",
        "outputId": "5ebb0b93-1317-4cc5-e73a-b52b78f41f58"
      },
      "execution_count": null,
      "outputs": [
        {
          "output_type": "stream",
          "name": "stdout",
          "text": [
            "[[1 1 1]\n",
            " [1 1 1]]\n",
            "[[0. 0. 0. 0.]\n",
            " [0. 0. 0. 0.]\n",
            " [0. 0. 0. 0.]]\n"
          ]
        }
      ]
    },
    {
      "cell_type": "markdown",
      "source": [
        "\n",
        "#Generating Arrays using **random.rand()**"
      ],
      "metadata": {
        "id": "s7U2IcvJLtB3"
      }
    },
    {
      "cell_type": "code",
      "source": [
        "f=np.random.rand(5)\n",
        "print(f)\n",
        "g=np.random.rand(5,2)\n",
        "print(g)"
      ],
      "metadata": {
        "colab": {
          "base_uri": "https://localhost:8080/"
        },
        "id": "HBjSm-1TL-FT",
        "outputId": "8111ff89-9800-4c03-b250-958eba085227"
      },
      "execution_count": null,
      "outputs": [
        {
          "output_type": "stream",
          "name": "stdout",
          "text": [
            "[0.40048999 0.4693604  0.27814048 0.50506672 0.85986034]\n",
            "[[0.24201749 0.57931219]\n",
            " [0.34716382 0.3237869 ]\n",
            " [0.09373743 0.61434077]\n",
            " [0.33587429 0.5058871 ]\n",
            " [0.23766427 0.73128384]]\n"
          ]
        }
      ]
    },
    {
      "cell_type": "markdown",
      "source": [
        "#Using **logspace()**"
      ],
      "metadata": {
        "id": "XZqzVPgoMXO-"
      }
    },
    {
      "cell_type": "code",
      "source": [
        "h=np.logspace(1,20,10,True,base=10,dtype=float)\n",
        "print(h)"
      ],
      "metadata": {
        "colab": {
          "base_uri": "https://localhost:8080/"
        },
        "id": "i8ij3UikM2p2",
        "outputId": "40653b4c-b0a9-4839-c27f-cea45587297d"
      },
      "execution_count": null,
      "outputs": [
        {
          "output_type": "stream",
          "name": "stdout",
          "text": [
            "[1.00000000e+01 1.29154967e+03 1.66810054e+05 2.15443469e+07\n",
            " 2.78255940e+09 3.59381366e+11 4.64158883e+13 5.99484250e+15\n",
            " 7.74263683e+17 1.00000000e+20]\n"
          ]
        }
      ]
    },
    {
      "cell_type": "markdown",
      "source": [
        "#**Reshaping an Array**"
      ],
      "metadata": {
        "id": "6WnpZ9RcPTIN"
      }
    },
    {
      "cell_type": "code",
      "source": [
        "x=np.arange(start=1,stop=10)\n",
        "print(x)\n",
        "y=np.arange(start=1,stop=10).reshape(3,3)\n",
        "print(y)"
      ],
      "metadata": {
        "colab": {
          "base_uri": "https://localhost:8080/"
        },
        "id": "jHZ-LRV5PgyL",
        "outputId": "c4a7ba10-8577-4524-d8ba-8f00c8a98bbf"
      },
      "execution_count": null,
      "outputs": [
        {
          "output_type": "stream",
          "name": "stdout",
          "text": [
            "[1 2 3 4 5 6 7 8 9]\n",
            "[[1 2 3]\n",
            " [4 5 6]\n",
            " [7 8 9]]\n"
          ]
        }
      ]
    },
    {
      "cell_type": "markdown",
      "source": [
        "#**Array Dimensions**"
      ],
      "metadata": {
        "id": "-VPheUxHP_kM"
      }
    },
    {
      "cell_type": "code",
      "source": [
        "a=np.array([[1,2,3],[4,5,6],[7,8,9]])\n",
        "print(a)\n",
        "print(a.shape)"
      ],
      "metadata": {
        "colab": {
          "base_uri": "https://localhost:8080/"
        },
        "id": "jf1MXRYjQFVS",
        "outputId": "4f9af85a-0b68-45fd-c3b2-1e5dfc4b0c34"
      },
      "execution_count": null,
      "outputs": [
        {
          "output_type": "stream",
          "name": "stdout",
          "text": [
            "[[1 2 3]\n",
            " [4 5 6]\n",
            " [7 8 9]]\n",
            "(3, 3)\n"
          ]
        }
      ]
    },
    {
      "cell_type": "markdown",
      "source": [
        "#**Mathematical  Operations**"
      ],
      "metadata": {
        "id": "eXKz8W18QpA6"
      }
    },
    {
      "cell_type": "markdown",
      "source": [
        "#**Addition**"
      ],
      "metadata": {
        "id": "TszEmV7_RU0p"
      }
    },
    {
      "cell_type": "code",
      "source": [
        "y=np.arange(start=1,stop=10).reshape(3,3)\n",
        "print(y)\n",
        "a=np.array([[1,2,3],[4,5,6],[7,8,9]])\n",
        "print(a)\n",
        "\n",
        "c=np.add(y,a)\n",
        "print(c)"
      ],
      "metadata": {
        "colab": {
          "base_uri": "https://localhost:8080/"
        },
        "id": "h0Rq3hrIQuPZ",
        "outputId": "6e7fe05a-120d-4005-a866-179d21e8b952"
      },
      "execution_count": null,
      "outputs": [
        {
          "output_type": "stream",
          "name": "stdout",
          "text": [
            "[[1 2 3]\n",
            " [4 5 6]\n",
            " [7 8 9]]\n",
            "[[1 2 3]\n",
            " [4 5 6]\n",
            " [7 8 9]]\n",
            "[[ 2  4  6]\n",
            " [ 8 10 12]\n",
            " [14 16 18]]\n"
          ]
        }
      ]
    },
    {
      "cell_type": "markdown",
      "source": [
        "#**Multiplication**"
      ],
      "metadata": {
        "id": "UjHJmmRwRbxw"
      }
    },
    {
      "cell_type": "code",
      "source": [
        "a=np.array([[1,2,3],[4,5,6],[7,8,9]])\n",
        "print(a)\n",
        "y=np.arange(start=1,stop=10).reshape(3,3)\n",
        "print(y)\n",
        "\n",
        "d=np.multiply(y,a)\n",
        "print(d)"
      ],
      "metadata": {
        "colab": {
          "base_uri": "https://localhost:8080/"
        },
        "id": "bkqBWdlBQ2YS",
        "outputId": "4e4e39f4-a9ba-44cf-acb5-3c4315e3d317"
      },
      "execution_count": null,
      "outputs": [
        {
          "output_type": "stream",
          "name": "stdout",
          "text": [
            "[[1 2 3]\n",
            " [4 5 6]\n",
            " [7 8 9]]\n",
            "[[1 2 3]\n",
            " [4 5 6]\n",
            " [7 8 9]]\n",
            "[[ 1  4  9]\n",
            " [16 25 36]\n",
            " [49 64 81]]\n"
          ]
        }
      ]
    },
    {
      "cell_type": "markdown",
      "source": [
        "#**Transpose**"
      ],
      "metadata": {
        "id": "ejjSOmpXPLsd"
      }
    },
    {
      "cell_type": "code",
      "source": [
        "a=np.array([[1,2,3],[4,5,6],[7,8,9]])\n",
        "print(a)\n",
        "b=np.transpose(a)\n",
        "print(b)"
      ],
      "metadata": {
        "colab": {
          "base_uri": "https://localhost:8080/"
        },
        "id": "Znz72yHKPKke",
        "outputId": "0b7f3494-d7e7-48b1-b9f1-7e53b57497ba"
      },
      "execution_count": null,
      "outputs": [
        {
          "output_type": "stream",
          "name": "stdout",
          "text": [
            "[[1 2 3]\n",
            " [4 5 6]\n",
            " [7 8 9]]\n",
            "[[1 4 7]\n",
            " [2 5 8]\n",
            " [3 6 9]]\n"
          ]
        }
      ]
    },
    {
      "cell_type": "markdown",
      "source": [
        "#**append()**"
      ],
      "metadata": {
        "id": "pvm3oPOVP0Wb"
      }
    },
    {
      "cell_type": "code",
      "source": [
        "a=np.array([[1,2,3],[4,5,6],[7,8,9]])\n",
        "print(a)\n",
        "new_a=np.append(a,[[10,11,12]],axis=0)\n",
        "print(new_a)"
      ],
      "metadata": {
        "colab": {
          "base_uri": "https://localhost:8080/"
        },
        "id": "p_3GsGJCP8mT",
        "outputId": "dbab4d6d-6192-4039-ae8c-6860478daaee"
      },
      "execution_count": null,
      "outputs": [
        {
          "output_type": "stream",
          "name": "stdout",
          "text": [
            "[[1 2 3]\n",
            " [4 5 6]\n",
            " [7 8 9]]\n",
            "[[ 1  2  3]\n",
            " [ 4  5  6]\n",
            " [ 7  8  9]\n",
            " [10 11 12]]\n"
          ]
        }
      ]
    },
    {
      "cell_type": "markdown",
      "source": [
        "#**insert()**"
      ],
      "metadata": {
        "id": "-gFJ50X1QeEO"
      }
    },
    {
      "cell_type": "code",
      "source": [
        "a=np.array([[1,2,3],[4,5,6],[7,8,9]])\n",
        "print(a)\n",
        "b=np.insert(a,1,[[4,8,7]],axis=0)\n",
        "print(b)"
      ],
      "metadata": {
        "colab": {
          "base_uri": "https://localhost:8080/"
        },
        "id": "1Oi--AarQnmX",
        "outputId": "fe0aa432-904f-45a4-e9ab-b0d7cc3824b3"
      },
      "execution_count": null,
      "outputs": [
        {
          "output_type": "stream",
          "name": "stdout",
          "text": [
            "[[1 2 3]\n",
            " [4 5 6]\n",
            " [7 8 9]]\n",
            "[[1 2 3]\n",
            " [4 8 7]\n",
            " [4 5 6]\n",
            " [7 8 9]]\n"
          ]
        }
      ]
    },
    {
      "cell_type": "markdown",
      "source": [
        "#**delete()**"
      ],
      "metadata": {
        "id": "gpHHit4DQ_jC"
      }
    },
    {
      "cell_type": "code",
      "source": [
        "a=np.array([[1,2,3],[4,5,6],[7,8,9]])\n",
        "print(a)\n",
        "a_del=np.delete(a,1,axis=0)\n",
        "print(a_del)"
      ],
      "metadata": {
        "colab": {
          "base_uri": "https://localhost:8080/"
        },
        "id": "AuLKrs1JRHgK",
        "outputId": "5efe2013-bb0d-4b67-dad3-ffdff264cc1a"
      },
      "execution_count": null,
      "outputs": [
        {
          "output_type": "stream",
          "name": "stdout",
          "text": [
            "[[1 2 3]\n",
            " [4 5 6]\n",
            " [7 8 9]]\n",
            "[[1 2 3]\n",
            " [7 8 9]]\n"
          ]
        }
      ]
    },
    {
      "cell_type": "markdown",
      "source": [
        "#**Creating Matrix**"
      ],
      "metadata": {
        "id": "GjOtyKlZRXT1"
      }
    },
    {
      "cell_type": "code",
      "source": [
        "a=np.matrix(\"1,2,3;4,5,6;7,8,9\")\n",
        "print(a)"
      ],
      "metadata": {
        "colab": {
          "base_uri": "https://localhost:8080/"
        },
        "id": "A2JDUOESRsVT",
        "outputId": "00767252-114b-4c80-e1c4-678626e82dbc"
      },
      "execution_count": null,
      "outputs": [
        {
          "output_type": "stream",
          "name": "stdout",
          "text": [
            "[[1 2 3]\n",
            " [4 5 6]\n",
            " [7 8 9]]\n"
          ]
        }
      ]
    },
    {
      "cell_type": "markdown",
      "source": [
        "#**shape()**"
      ],
      "metadata": {
        "id": "oi39QU_VSW6j"
      }
    },
    {
      "cell_type": "code",
      "source": [
        "a=np.matrix(\"1,2,3;4,5,6;7,8,9\")\n",
        "print(a)\n",
        "print(f\"number of rows and columns are: {a.shape}\")\n",
        "print(\"a.shape[0] returns number of rows & a.shape[1] return number of coloumns\")"
      ],
      "metadata": {
        "colab": {
          "base_uri": "https://localhost:8080/"
        },
        "id": "M1wgEzhySaV9",
        "outputId": "68eef27a-cc21-46d3-dc9d-b0ed588539b5"
      },
      "execution_count": null,
      "outputs": [
        {
          "output_type": "stream",
          "name": "stdout",
          "text": [
            "[[1 2 3]\n",
            " [4 5 6]\n",
            " [7 8 9]]\n",
            "number of rows and columns are: (3, 3)\n",
            "a.shape[0] returns number of rows & a.shape[1] return number of coloumns\n"
          ]
        }
      ]
    },
    {
      "cell_type": "markdown",
      "source": [
        "#**size()**"
      ],
      "metadata": {
        "id": "CCFA2iUsTAml"
      }
    },
    {
      "cell_type": "code",
      "source": [
        "a=np.matrix(\"1,2,3;4,5,6;7,8,9\")\n",
        "print(a)\n",
        "print(a.size)\n",
        "print(\"it returns number of elements present in the matrix\")"
      ],
      "metadata": {
        "colab": {
          "base_uri": "https://localhost:8080/"
        },
        "id": "FLG29sWRTeNt",
        "outputId": "a5e98fea-fa18-4015-e40e-1670c00b36eb"
      },
      "execution_count": null,
      "outputs": [
        {
          "output_type": "stream",
          "name": "stdout",
          "text": [
            "[[1 2 3]\n",
            " [4 5 6]\n",
            " [7 8 9]]\n",
            "9\n",
            "it returns number of elements present in the matrix\n"
          ]
        }
      ]
    },
    {
      "cell_type": "markdown",
      "source": [
        "#**dot operation**"
      ],
      "metadata": {
        "id": "OIvEldpAUDpL"
      }
    },
    {
      "cell_type": "code",
      "source": [
        "a=np.matrix(\"1,2,3;4,5,6;7,8,9\")\n",
        "print(a)\n",
        "b=np.matrix(\"9,5,6;7,2,1;0,1,3\")\n",
        "print(b)\n",
        "c=np.dot(a,b)\n",
        "print(c)"
      ],
      "metadata": {
        "colab": {
          "base_uri": "https://localhost:8080/"
        },
        "id": "zVIfDsn2Umw7",
        "outputId": "f889d0f4-bfc1-4303-b373-8cf3cb4eb778"
      },
      "execution_count": null,
      "outputs": [
        {
          "output_type": "stream",
          "name": "stdout",
          "text": [
            "[[1 2 3]\n",
            " [4 5 6]\n",
            " [7 8 9]]\n",
            "[[9 5 6]\n",
            " [7 2 1]\n",
            " [0 1 3]]\n",
            "[[ 23  12  17]\n",
            " [ 71  36  47]\n",
            " [119  60  77]]\n"
          ]
        }
      ]
    },
    {
      "cell_type": "markdown",
      "source": [
        "#**Determinant rank and inverse of matrix**"
      ],
      "metadata": {
        "id": "BrmVYZmjSuq6"
      }
    },
    {
      "cell_type": "code",
      "source": [
        "a=np.matrix(\"1,2,3,8;7,4,5,6;-12,7,8,9;5,89,21,4\")\n",
        "print(a)\n",
        "print(f\"determinat is {np.linalg.det(a)}\")\n",
        "print(f\"rank is {np.linalg.matrix_rank(a)}\")\n",
        "print(f\"inverse is \\n {np.linalg.inv(a)}\")"
      ],
      "metadata": {
        "colab": {
          "base_uri": "https://localhost:8080/"
        },
        "id": "1KAEvOLdS0ga",
        "outputId": "d78c6af8-e258-4ef1-89a9-95b49b37f7ac"
      },
      "execution_count": null,
      "outputs": [
        {
          "output_type": "stream",
          "name": "stdout",
          "text": [
            "[[  1   2   3   8]\n",
            " [  7   4   5   6]\n",
            " [-12   7   8   9]\n",
            " [  5  89  21   4]]\n",
            "determinat is 36064.00000000003\n",
            "rank is 4\n",
            "inverse is \n",
            " [[-0.00424246  0.06973713 -0.04286823  0.00033274]\n",
            " [ 0.06616016 -0.06139086 -0.02429015  0.01441881]\n",
            " [-0.32323092  0.26095275  0.11950976 -0.01386424]\n",
            " [ 0.23020186 -0.09122671 -0.03338509  0.0015528 ]]\n"
          ]
        }
      ]
    },
    {
      "cell_type": "markdown",
      "source": [
        "#**System of linearequations**"
      ],
      "metadata": {
        "id": "yQuwEjAkcABv"
      }
    },
    {
      "cell_type": "code",
      "source": [
        "A=np.matrix(\"3,1,2;3,2,5;6,7,8\")\n",
        "print(A)\n",
        "b=np.matrix(\"2,-1,3\").transpose()\n",
        "print(b)\n",
        "sol_linear=np.linalg.solve(A,b)\n",
        "print(sol_linear)"
      ],
      "metadata": {
        "colab": {
          "base_uri": "https://localhost:8080/"
        },
        "id": "8NvqyvwzcGuN",
        "outputId": "f157dad9-2ad5-4572-da59-28729bdf3610"
      },
      "execution_count": null,
      "outputs": [
        {
          "output_type": "stream",
          "name": "stdout",
          "text": [
            "[[3 1 2]\n",
            " [3 2 5]\n",
            " [6 7 8]]\n",
            "[[ 2]\n",
            " [-1]\n",
            " [ 3]]\n",
            "[[ 1.24242424]\n",
            " [ 0.81818182]\n",
            " [-1.27272727]]\n"
          ]
        }
      ]
    }
  ]
}